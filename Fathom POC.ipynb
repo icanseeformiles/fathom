{
 "cells": [
  {
   "cell_type": "code",
   "execution_count": 1,
   "metadata": {},
   "outputs": [
    {
     "name": "stderr",
     "output_type": "stream",
     "text": [
      "Using TensorFlow backend.\n"
     ]
    }
   ],
   "source": [
    "import numpy as np\n",
    "import pandas as pd\n",
    "from nutshell import ModelData, Learner"
   ]
  },
  {
   "cell_type": "code",
   "execution_count": 2,
   "metadata": {
    "collapsed": true
   },
   "outputs": [],
   "source": [
    "# Fathom concepts\n",
    "\n",
    "# FactSet is a dataset with three columns: subject, fact, value\n",
    "# You can generate a FactSet from a data with rows and columns using \n",
    "#  source csv has one row per subject - with columns containing fact values\n",
    "#  destination dataset has one row per subject/fact\n",
    "\n"
   ]
  },
  {
   "cell_type": "code",
   "execution_count": 59,
   "metadata": {},
   "outputs": [],
   "source": [
    "class FactSet:\n",
    "    \n",
    "    def __init__(self):\n",
    "        fact_data = pd.DataFrame()   # internal dataset with one row per subject/fact\n",
    "        label_data = pd.DataFrame()  # internal dataset with one row per subject\n",
    "        model_name = 'factset'       # override this value to the name of the model file that will be built\n",
    "        model = None\n",
    "        subject_column = ''          # name of subject id column\n",
    "        fact_name_column = ''\n",
    "        fact_value_column = ''\n",
    "        label_column = ''            # name label column - this will be not be used in training\n",
    "        fact_colnames = []           # optional: list of fact columns; default is all non subject/label columns\n",
    "               \n",
    "    def load_subject_rows(self, df):\n",
    "        \n",
    "        # dataset is in the format one row per subject, one fact per column\n",
    "        print('Transposing data into fact rows...')\n",
    "        \n",
    "        #to do\n",
    "        \n",
    "    \n",
    "    def load_fact_rows(self, df):\n",
    "               \n",
    "        # dataset is in the format one row per subject/fact, each row has a fact name and value column\n",
    "        self.fact_data = pd.DataFrame()\n",
    "        self.fact_data['subject'] = df[self.subject_column]\n",
    "        self.fact_data['fact_name'] = df[self.fact_name_column]\n",
    "        self.fact_data['fact_value'] = df[self.fact_value_column]\n",
    "        \n",
    "        print(len(df), 'fact rows loaded')\n",
    "    \n",
    "    def learn(self, model_name=''):\n",
    "     \n",
    "        # training a neural net to tell which facts are true and which are false about each subject\n",
    "        #  so for every true fact about a subject, there should be an equal number of false facts\n",
    "        #  false facts are taken from other subjects, so they are plausible facts\n",
    "    \n",
    "        if model_name == '':\n",
    "            model_name = self.model_name\n",
    "    \n",
    "        print('Preparing data for model training...')\n",
    "\n",
    "        self.fact_data['is_true'] = 1\n",
    "        \n",
    "        data = ModelData(self.fact_data)\n",
    "        data.category_columns = ['subject','fact_name']\n",
    "        data.label_column = 'is_true'\n",
    "        data.prepare_data()\n",
    "        \n",
    "\n",
    "        print('Building neural network...')\n",
    "        \n",
    "        print('Training neural network...')\n",
    "        \n",
    "        print ('Stored model to: ', model_name)\n",
    "        \n",
    "    \n",
    "        \n",
    "    \n",
    "\n"
   ]
  },
  {
   "cell_type": "code",
   "execution_count": 37,
   "metadata": {
    "collapsed": true
   },
   "outputs": [],
   "source": [
    "# as a sample, use instacart purchases\n",
    "# we will use users as subjects and products purchased as facts\n",
    "\n",
    "dataPath = '/Users/Miles/Documents/Datasets/Instacart/'\n",
    "dfProducts = pd.read_csv(dataPath + 'products.csv')\n",
    "dfOrders = pd.read_csv(dataPath + 'orders.csv')\n",
    "dfOrderProducts = pd.read_csv(dataPath + 'order_products__prior.csv')"
   ]
  },
  {
   "cell_type": "code",
   "execution_count": 39,
   "metadata": {},
   "outputs": [],
   "source": [
    "# full set has 206K unique users\n",
    "dfOrders['user_id'].nunique()\n",
    "\n",
    "# lets start with a sample set of 2000 users\n",
    "dfSample = pd.DataFrame()\n",
    "dfSample['user_id'] = dfOrders['user_id'].unique()\n",
    "dfSample = dfSample.sample(n=2000)\n",
    "\n",
    "dfOrders = pd.merge(dfSample, dfOrders, on='user_id').reset_index()"
   ]
  },
  {
   "cell_type": "code",
   "execution_count": 41,
   "metadata": {},
   "outputs": [],
   "source": [
    "# create list of user ids and products they have ordered\n",
    "\n",
    "dfUserProducts = pd.merge(dfOrders, dfOrderProducts, on='order_id')[['user_id', 'product_id']].\\\n",
    "    sort_values(['user_id', 'product_id']).groupby(['user_id', 'product_id']).count().reset_index()"
   ]
  },
  {
   "cell_type": "code",
   "execution_count": 49,
   "metadata": {},
   "outputs": [],
   "source": [
    "dfUserProducts['fact_name'] = 'product'"
   ]
  },
  {
   "cell_type": "code",
   "execution_count": 56,
   "metadata": {},
   "outputs": [
    {
     "name": "stdout",
     "output_type": "stream",
     "text": [
      "129146 fact rows loaded\n"
     ]
    }
   ],
   "source": [
    "facts = FactSet()\n",
    "facts.subject_column = 'user_id'\n",
    "facts.fact_name_column = 'fact_name'\n",
    "facts.fact_value_column = 'product_id'\n",
    "facts.load_fact_rows(dfUserProducts)"
   ]
  },
  {
   "cell_type": "code",
   "execution_count": 48,
   "metadata": {},
   "outputs": [
    {
     "name": "stdout",
     "output_type": "stream",
     "text": [
      "Index(['user_id', 'product_id'], dtype='object')\n"
     ]
    }
   ],
   "source": [
    "print(dfUserProducts.columns)"
   ]
  },
  {
   "cell_type": "code",
   "execution_count": 13,
   "metadata": {},
   "outputs": [
    {
     "data": {
      "text/html": [
       "<div>\n",
       "<style scoped>\n",
       "    .dataframe tbody tr th:only-of-type {\n",
       "        vertical-align: middle;\n",
       "    }\n",
       "\n",
       "    .dataframe tbody tr th {\n",
       "        vertical-align: top;\n",
       "    }\n",
       "\n",
       "    .dataframe thead th {\n",
       "        text-align: right;\n",
       "    }\n",
       "</style>\n",
       "<table border=\"1\" class=\"dataframe\">\n",
       "  <thead>\n",
       "    <tr style=\"text-align: right;\">\n",
       "      <th></th>\n",
       "      <th>order_id</th>\n",
       "      <th>product_id</th>\n",
       "      <th>add_to_cart_order</th>\n",
       "      <th>reordered</th>\n",
       "    </tr>\n",
       "  </thead>\n",
       "  <tbody>\n",
       "    <tr>\n",
       "      <th>0</th>\n",
       "      <td>2</td>\n",
       "      <td>33120</td>\n",
       "      <td>1</td>\n",
       "      <td>1</td>\n",
       "    </tr>\n",
       "    <tr>\n",
       "      <th>1</th>\n",
       "      <td>2</td>\n",
       "      <td>28985</td>\n",
       "      <td>2</td>\n",
       "      <td>1</td>\n",
       "    </tr>\n",
       "    <tr>\n",
       "      <th>2</th>\n",
       "      <td>2</td>\n",
       "      <td>9327</td>\n",
       "      <td>3</td>\n",
       "      <td>0</td>\n",
       "    </tr>\n",
       "    <tr>\n",
       "      <th>3</th>\n",
       "      <td>2</td>\n",
       "      <td>45918</td>\n",
       "      <td>4</td>\n",
       "      <td>1</td>\n",
       "    </tr>\n",
       "    <tr>\n",
       "      <th>4</th>\n",
       "      <td>2</td>\n",
       "      <td>30035</td>\n",
       "      <td>5</td>\n",
       "      <td>0</td>\n",
       "    </tr>\n",
       "  </tbody>\n",
       "</table>\n",
       "</div>"
      ],
      "text/plain": [
       "   order_id  product_id  add_to_cart_order  reordered\n",
       "0         2       33120                  1          1\n",
       "1         2       28985                  2          1\n",
       "2         2        9327                  3          0\n",
       "3         2       45918                  4          1\n",
       "4         2       30035                  5          0"
      ]
     },
     "execution_count": 13,
     "metadata": {},
     "output_type": "execute_result"
    }
   ],
   "source": [
    "dfOrderProducts[0:5]"
   ]
  },
  {
   "cell_type": "code",
   "execution_count": null,
   "metadata": {
    "collapsed": true
   },
   "outputs": [],
   "source": []
  }
 ],
 "metadata": {
  "kernelspec": {
   "display_name": "Python 3",
   "language": "python",
   "name": "python3"
  },
  "language_info": {
   "codemirror_mode": {
    "name": "ipython",
    "version": 3
   },
   "file_extension": ".py",
   "mimetype": "text/x-python",
   "name": "python",
   "nbconvert_exporter": "python",
   "pygments_lexer": "ipython3",
   "version": "3.6.4"
  }
 },
 "nbformat": 4,
 "nbformat_minor": 2
}
