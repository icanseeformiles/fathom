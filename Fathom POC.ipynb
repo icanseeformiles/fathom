{
 "cells": [
  {
   "cell_type": "code",
   "execution_count": 229,
   "metadata": {},
   "outputs": [],
   "source": [
    "import numpy as np\n",
    "import pandas as pd\n",
    "import matplotlib.pyplot as plt\n",
    "from keras.models import load_model\n",
    "from nutshell import ModelData, Learner, Representation"
   ]
  },
  {
   "cell_type": "code",
   "execution_count": 2,
   "metadata": {
    "collapsed": true
   },
   "outputs": [],
   "source": [
    "# Fathom concepts\n",
    "\n",
    "# FactSet is a dataset with three columns: subject, fact_name, fact_value\n",
    "#  \n",
    "# You can generate a FactSet from a data with rows and columns using \n",
    "#  load_subject_rows: source dataframe has one row per subject - with columns containing fact values\n",
    "#  load_fact_rows: source dataframe has many rows per subject - one row per fact name/value pair\n",
    "#  results in internal fact_data dataset with one row per subject/fact\n",
    "\n"
   ]
  },
  {
   "cell_type": "code",
   "execution_count": 110,
   "metadata": {},
   "outputs": [],
   "source": [
    "class FactSet:\n",
    "    \n",
    "    def __init__(self, factset_name):\n",
    "\n",
    "        self.factset_name = factset_name  # this value informs the names of model files generated\n",
    "        self.fact_data = pd.DataFrame()   # internal dataset with one row per subject/fact\n",
    "        self.label_data = pd.DataFrame()  # internal dataset with one row per subject\n",
    "        self.subject_column = ''          # name of subject id column in input dataset\n",
    "        self.label_column = ''            # name label column - this will be not be used in training\n",
    "        self.fact_name_column = ''        # name of fact name column in input dataset\n",
    "        self.fact_value_column = ''       # name of fact value column in input dataset\n",
    "        self.fact_colnames = []           # optional: list of fact columns; default is all non subject/label columns\n",
    "        self.model = None\n",
    "               \n",
    "    def load_subject_rows(self, df):\n",
    "        \n",
    "        # dataset is in the format one row per subject, one fact per column\n",
    "        print('Transposing data into fact rows...')\n",
    "        \n",
    "        #to do\n",
    "        \n",
    "    \n",
    "    def load_fact_rows(self, df):\n",
    "               \n",
    "        # dataset is in the format one row per subject/fact, each row has a fact name and value column\n",
    "        self.fact_data = pd.DataFrame()\n",
    "        self.fact_data['subject'] = df[self.subject_column]\n",
    "        self.fact_data['fact_name'] = df[self.fact_name_column]\n",
    "        self.fact_data['fact_value'] = df[self.fact_value_column]\n",
    "        \n",
    "        print(len(df), 'fact rows loaded')\n",
    "             "
   ]
  },
  {
   "cell_type": "code",
   "execution_count": 310,
   "metadata": {},
   "outputs": [],
   "source": [
    "class Fathom:\n",
    "    \n",
    "    def __init__(self, factset):\n",
    "        \n",
    "        self.factset = factset\n",
    "        self.model = None\n",
    "        self.subject_representation = None\n",
    "        self.subject_data = pd.DataFrame() # data for output for each subject\n",
    "        self.fact_representation = None    \n",
    "        self.fact_data = pd.DataFrame() # data for output for each fact\n",
    "             \n",
    "       \n",
    "    def load_model(self, model=None, modeldata=None, model_name=''):\n",
    "        \n",
    "        # load trained model and settings\n",
    " \n",
    "        if model!=None:\n",
    "            self.model = model\n",
    "            md = modeldata\n",
    "        else:\n",
    "            if model_name=='':\n",
    "                model_name = self.factset.factset_name\n",
    "                \n",
    "            self.model = load_model(model_name + '_model.h5')\n",
    "            md = ModelData(self.factset_to_df, model_name + '_settings')\n",
    "\n",
    "        # convert model embeddings to nutshell representation objects\n",
    "        self.subject_representation = Representation(self.extract_embeddings('subject', md, include_key = True))\n",
    "        self.fact_representation = Representation(self.extract_embeddings('fact', md, include_key = True))  \n",
    "        \n",
    "        # initialize output datasets\n",
    "        self.subject_data = pd.DataFrame()\n",
    "        self.subject_data['subject'] = self.subject_representation.keys\n",
    "        self.fact_data = pd.DataFrame()\n",
    "        self.fact_data['fact'] = self.fact_representation.keys\n",
    "            \n",
    "    \n",
    "    def extract_embeddings(self, column_name, modeldata, include_key = False):\n",
    "        \n",
    "        embedding_list = self.model.get_layer('embed_' + column_name).get_weights()[0]\n",
    "        \n",
    "        if include_key:\n",
    "            key_list = []\n",
    "            for i in range(0, len(embedding_list)):\n",
    "                v = modeldata.index_value[column_name][i]\n",
    "                key_list.append(v)\n",
    "            embedding_list = [embedding_list, key_list]\n",
    "            return embedding_list\n",
    "        else:\n",
    "            return [embedding_list]\n",
    "                   \n",
    "            \n",
    "    def factset_to_df(self):\n",
    "        \n",
    "        fact_data = self.factset.fact_data\n",
    "        \n",
    "        dfLearn = pd.DataFrame()        \n",
    "        dfLearn['subject'] = fact_data['subject']\n",
    "        dfLearn['fact'] = fact_data['fact_name'].astype('str') + '/' + fact_data['fact_value'].astype('str')\n",
    "        dfLearn['is_true'] = 1\n",
    "        \n",
    "        return dfLearn\n",
    " \n",
    "    \n",
    "    def learn(self, batch_size=1024, super_epochs=1, epochs=1):\n",
    "     \n",
    "        # training a neural net to tell which facts are true and which are false about each subject\n",
    "        #  so for every true fact about a subject, there should be an equal number of false facts\n",
    "        #  false facts are taken from other subjects, so they are plausible facts       \n",
    "        \n",
    "        print('Preparing data for model training...')\n",
    "    \n",
    "        dfLearn = factset_to_df() # convert fact_data to training data format\n",
    "        \n",
    "        data = ModelData(dfLearn)\n",
    "        data.category_columns = ['subject','fact']\n",
    "        data.label_column = 'is_true'\n",
    "        data.prepare_data()\n",
    "        data.add_false_rows(['subject']) # TODO: need to iterate to get rid of true facts labeled as false\n",
    "        #data.prepare_data() # this wipes out false rows\n",
    "        data.max_validation = 1 # overfitting is the point here - no need for validation set\n",
    "        data.split_data(shuffle=True)       \n",
    "        \n",
    "        print('Building neural network...')\n",
    "        \n",
    "        model = Learner(data)\n",
    "        model.dropout = .01 # overfitting is the point here - minimize dropout\n",
    "        model.batch_size = batch_size\n",
    "        model.build_model()\n",
    "        \n",
    "        print('Training neural network...')\n",
    "\n",
    "        model.train_model(self.factset.factset_name, epochs=epochs, super_epochs=super_epochs, early_stopping='loss')\n",
    "        # early_stopping='loss' is because we are trying to overfit - ignoring validation loss\n",
    "        \n",
    "        print ('Stored model to: ', self.factset.factset_name + '_', 'files')\n",
    "        load_model(model, data) # set internal model and extract embeddings\n",
    "        \n",
    "        \n",
    "    def generate_xy(self, generate_for='subject'):\n",
    "        \n",
    "        # this will reduce embedding dimensions down to 2 x,y dimensions\n",
    "        #  and add the x,y values to the output data set\n",
    "        \n",
    "        if generate_for == 'subject':\n",
    "            g_representation = self.subject_representation\n",
    "            g_data = self.subject_data\n",
    "        else:\n",
    "            generate_for = 'fact'\n",
    "            g_representation= self.fact_representation\n",
    "            g_data = self.fact_data\n",
    "            \n",
    "        print('Calculating x,y coordinates for ' + generate_for + 's (this could take a while)...')\n",
    "        rep_2d = self.subject_representation.reduce_dimensions(2)\n",
    "        g_data[generate_for + '_x'] = rep_2d[:,0]\n",
    "        g_data[generate_for + '_y'] = rep_2d[:,1]\n",
    "        print('Added ' + generate_for + '_x and ' + generate_for + '_y columns to ' + generate_for + '_data')\n",
    "        \n",
    "    def generate_clusters(self, cluster_count=5, generate_for='subject'):\n",
    "        \n",
    "        # this will create n clusters based on subject/fact embedding values\n",
    "        #  and add the cluster_n value to the output data set\n",
    "        # you can run this multiple times with different n values\n",
    "        #  so multiple cluster sets can be added to the output to create super/sub clusters\n",
    "        \n",
    "        if generate_for == 'subject':\n",
    "            g_representation = self.subject_representation\n",
    "            g_data = self.subject_data\n",
    "        else:\n",
    "            generate_for = 'fact'\n",
    "            g_representation= self.fact_representation\n",
    "            g_data = self.fact_data\n",
    "            \n",
    "        print('Calculating ' + str(cluster_count) + ' subject clusters...')\n",
    "        self.subject_representation.calculate_clusters(cluster_count)\n",
    "        self.subject_data['cluster_' + str(cluster_count)] = self.subject_representation.clusters\n",
    "        print('Added cluster_' + str(cluster_count) + ' to subject_data')\n",
    "        \n",
    "    def rename_cluster(self, generate_for='subject', cluster_count=5, old_cluster_name='', new_cluster_name=''):\n",
    "        \n",
    "        if old_cluster_name == '':\n",
    "            raise Exception('You must provide a value for old_cluster_name parameter')\n",
    "        if new_cluster_name=='':\n",
    "            raise Exception('You must provide a string for new_cluster_name parameter')\n",
    "            \n",
    "        # TO DO find column, replace new value where old value is present\n",
    "                    \n",
    "    \n",
    "    def describe_cluster(self, cluster_count, cluster_name):\n",
    "        \n",
    "        # return a dataframe containing all unique facts for the subset of subjects \n",
    "        #  where the subset is equal to members of a cluster\n",
    "        \n",
    "        # join all facts from factset.fact_data and join to subject_data\n",
    "        #  to apply subject cluster names to each fact\n",
    "        \n",
    "        print('Applying subject clusters to all facts in factset...')\n",
    "        dfClusterFacts = pd.merge(self.factset.fact_data, \\\n",
    "                                  self.subject_data[['subject', 'cluster_'+str(cluster_count)]],\\\n",
    "                                 on='subject')\n",
    "        \n",
    "        print('Aggregating fact metrics for subjects in/out of cluster...')\n",
    "        dfDescribe = self.describe_subset(df=dfClusterFacts, col_name='cluster_'+str(cluster_count), col_value=cluster_name)\n",
    "        \n",
    "        return dfDescribe\n",
    "        \n",
    "    def describe_subset(self, df, col_name, col_value):\n",
    "        \n",
    "        # return a dataframe containing metrics about all unique facts in factset\n",
    "        #  for each fact, provide: in_subject_count, out_subject_count, in_fact_count, out_fact_count\n",
    "        \n",
    "        df['in_out'] = df[col_name].apply(lambda x: 'in' if str(x)==str(col_value) else 'out')\n",
    "        dfFactInOut = df.groupby(['in_out', 'fact_name', 'fact_value']).subject.nunique().reset_index()\n",
    "        dfFactInOut = dfFactInOut.rename(columns={\"subject\": \"fact_subjects\"})\n",
    "        dfInOut = df.groupby(['in_out']).subject.nunique().reset_index()\n",
    "        dfInOut = dfInOut.rename(columns={\"subject\": \"set_subjects\"})\n",
    "        total_subjects = df.subject.nunique()\n",
    "        dfFactMetrics = pd.merge(dfFactInOut, dfInOut, on='in_out').reset_index()\n",
    "        dfFactMetrics['fact_perc'] = dfFactMetrics.apply(lambda x: x['fact_subjects'] / x['set_subjects'], axis=1)\n",
    "        dfFactsIn = dfFactMetrics[dfFactMetrics['in_out']=='in'][['fact_name', 'fact_value', 'fact_subjects', 'set_subjects', 'fact_perc']]\n",
    "        dfFactsIn = dfFactsIn.rename(columns={'fact_subjects':'in_fact_subjects', 'set_subjects':'in_subjects', 'fact_perc': 'in_fact_perc'})\n",
    "        dfFactsOut = dfFactMetrics[dfFactMetrics['in_out']=='out'][['fact_name', 'fact_value', 'fact_subjects', 'set_subjects', 'fact_perc']]\n",
    "        dfFactsOut = dfFactsOut.rename(columns={'fact_subjects':'out_fact_subjects', 'set_subjects':'out_subjects', 'fact_perc': 'out_fact_perc'})\n",
    "        dfFactMetrics = pd.merge(dfFactsIn, dfFactsOut, on=['fact_name', 'fact_value'])\n",
    "\n",
    "        dfFactMetrics['perc_diff'] = dfFactMetrics.apply(lambda x: (x['in_fact_perc'] - x['out_fact_perc'])/x['out_fact_perc'], axis=1)\n",
    "        dfFactMetrics['total_subjects'] = total_subjects\n",
    "        dfFactMetrics['in_subject_perc'] = dfFactMetrics.apply(lambda x: x['in_subjects'] / x['total_subjects'], axis=1)        \n",
    "        \n",
    "        return dfFactMetrics\n",
    "    \n",
    "    \n",
    "    def plot_clusters(self, cluster_count, generate_for='subject', max_points=500):\n",
    "        \n",
    "        # plot a small graph showing a sample of subjects/facts with dots colored by cluster\n",
    "        \n",
    "        if generate_for == 'subject':\n",
    "            g_data = self.subject_data\n",
    "        else:\n",
    "            generate_for = 'fact'\n",
    "            g_data = self.fact_data\n",
    "            \n",
    "        cl = g_data[0:max_points]['cluster_' + str(cluster_count)]\n",
    "        plt.scatter(g_data[0:max_points]['subject_x'], g_data[0:max_points]['subject_y'], c=cl)\n",
    "\n",
    "        plt.xlabel('reduced dimension x')\n",
    "        plt.ylabel('reduced dimension y')\n",
    "\n",
    "        #fig, ax = plt.subplots()\n",
    "        #ax.legend()\n",
    "\n",
    "        plt.show()        \n",
    "        \n",
    "               "
   ]
  },
  {
   "cell_type": "code",
   "execution_count": 276,
   "metadata": {
    "collapsed": true
   },
   "outputs": [],
   "source": [
    "df = pd.merge(fathom.factset.fact_data, \\\n",
    "                          fathom.subject_data[['subject', 'cluster_'+str(5)]],\\\n",
    "                         on='subject')\n",
    "\n",
    "\n"
   ]
  },
  {
   "cell_type": "code",
   "execution_count": 304,
   "metadata": {},
   "outputs": [
    {
     "name": "stdout",
     "output_type": "stream",
     "text": [
      "  fact_name  fact_value  in_fact_subjects  in_subjects  in_fact_perc  \\\n",
      "0   product           2                 3         2038      0.001472   \n",
      "1   product           3                 2         2038      0.000981   \n",
      "2   product          10                36         2038      0.017664   \n",
      "3   product          23                 7         2038      0.003435   \n",
      "4   product          25                15         2038      0.007360   \n",
      "5   product          31                 1         2038      0.000491   \n",
      "6   product          32                 3         2038      0.001472   \n",
      "7   product          34                35         2038      0.017174   \n",
      "8   product          35                 4         2038      0.001963   \n",
      "9   product          43                 2         2038      0.000981   \n",
      "\n",
      "   out_fact_subjects  out_subjects  out_fact_perc  perc_diff  total_subjects  \\\n",
      "0                  5          7962       0.000628   1.344063           10000   \n",
      "1                  5          7962       0.000628   0.562709           10000   \n",
      "2                 44          7962       0.005526   2.196449           10000   \n",
      "3                 20          7962       0.002512   0.367370           10000   \n",
      "4                 15          7962       0.001884   2.906771           10000   \n",
      "5                  6          7962       0.000754  -0.348871           10000   \n",
      "6                  3          7962       0.000377   2.906771           10000   \n",
      "7                 68          7962       0.008541   1.010838           10000   \n",
      "8                  6          7962       0.000754   1.604514           10000   \n",
      "9                  6          7962       0.000754   0.302257           10000   \n",
      "\n",
      "   in_subject_perc  \n",
      "0           0.2038  \n",
      "1           0.2038  \n",
      "2           0.2038  \n",
      "3           0.2038  \n",
      "4           0.2038  \n",
      "5           0.2038  \n",
      "6           0.2038  \n",
      "7           0.2038  \n",
      "8           0.2038  \n",
      "9           0.2038  \n"
     ]
    }
   ],
   "source": [
    "#df = dfxy.copy()\n",
    "col_name = 'cluster_5'\n",
    "col_value='4'\n",
    "df['in_out'] = df[col_name].apply(lambda x: 'in' if str(x)==str(col_value) else 'out')\n",
    "dfFactInOut = df.groupby(['in_out', 'fact_name', 'fact_value']).subject.nunique().reset_index()\n",
    "dfFactInOut = dfFactInOut.rename(columns={\"subject\": \"fact_subjects\"})\n",
    "dfInOut = df.groupby(['in_out']).subject.nunique().reset_index()\n",
    "dfInOut = dfInOut.rename(columns={\"subject\": \"set_subjects\"})\n",
    "total_subjects = df.subject.nunique()\n",
    "dfFactMetrics = pd.merge(dfFactInOut, dfInOut, on='in_out').reset_index()\n",
    "dfFactMetrics['fact_perc'] = dfFactMetrics.apply(lambda x: x['fact_subjects'] / x['set_subjects'], axis=1)\n",
    "dfFactsIn = dfFactMetrics[dfFactMetrics['in_out']=='in'][['fact_name', 'fact_value', 'fact_subjects', 'set_subjects', 'fact_perc']]\n",
    "dfFactsIn = dfFactsIn.rename(columns={'fact_subjects':'in_fact_subjects', 'set_subjects':'in_subjects', 'fact_perc': 'in_fact_perc'})\n",
    "dfFactsOut = dfFactMetrics[dfFactMetrics['in_out']=='out'][['fact_name', 'fact_value', 'fact_subjects', 'set_subjects', 'fact_perc']]\n",
    "dfFactsOut = dfFactsOut.rename(columns={'fact_subjects':'out_fact_subjects', 'set_subjects':'out_subjects', 'fact_perc': 'out_fact_perc'})\n",
    "dfFactMetrics = pd.merge(dfFactsIn, dfFactsOut, on=['fact_name', 'fact_value'])\n",
    "\n",
    "dfFactMetrics['perc_diff'] = dfFactMetrics.apply(lambda x: (x['in_fact_perc'] - x['out_fact_perc'])/x['out_fact_perc'], axis=1)\n",
    "dfFactMetrics['total_subjects'] = total_subjects\n",
    "dfFactMetrics['in_subject_perc'] = dfFactMetrics.apply(lambda x: x['in_subjects'] / x['total_subjects'], axis=1)\n",
    "\n",
    "\n",
    "print(dfFactMetrics[0:10])\n",
    "\n"
   ]
  },
  {
   "cell_type": "code",
   "execution_count": 296,
   "metadata": {},
   "outputs": [],
   "source": [
    "#dfFactMetrics[0:5]\n",
    "dfFactsIn = dfFactMetrics[dfFactMetrics['in_out']=='in']\n",
    "\n",
    "#[['fact_name', 'fact_value', 'fact_subjects', 'set_subjects', 'fact_perc']]\n"
   ]
  },
  {
   "cell_type": "code",
   "execution_count": 311,
   "metadata": {},
   "outputs": [],
   "source": [
    "fathom = Fathom(facts)\n",
    "#fathom.learn(super_epochs=3, epochs=15, batch_size=8192)\n",
    "fathom.load_model(model_name='grocery')"
   ]
  },
  {
   "cell_type": "code",
   "execution_count": 312,
   "metadata": {},
   "outputs": [
    {
     "name": "stdout",
     "output_type": "stream",
     "text": [
      "Calculating 5 subject clusters...\n",
      "Added cluster_5 to subject_data\n"
     ]
    }
   ],
   "source": [
    "fathom.generate_clusters()\n",
    "#fathom.generate_xy()"
   ]
  },
  {
   "cell_type": "code",
   "execution_count": 313,
   "metadata": {},
   "outputs": [
    {
     "name": "stdout",
     "output_type": "stream",
     "text": [
      "Applying subject clusters to all facts in factset...\n",
      "Aggregating fact metrics for subjects in/out of cluster...\n"
     ]
    }
   ],
   "source": [
    "dfDescribe = fathom.describe_cluster(5,0)"
   ]
  },
  {
   "cell_type": "code",
   "execution_count": 314,
   "metadata": {},
   "outputs": [
    {
     "data": {
      "text/html": [
       "<div>\n",
       "<style scoped>\n",
       "    .dataframe tbody tr th:only-of-type {\n",
       "        vertical-align: middle;\n",
       "    }\n",
       "\n",
       "    .dataframe tbody tr th {\n",
       "        vertical-align: top;\n",
       "    }\n",
       "\n",
       "    .dataframe thead th {\n",
       "        text-align: right;\n",
       "    }\n",
       "</style>\n",
       "<table border=\"1\" class=\"dataframe\">\n",
       "  <thead>\n",
       "    <tr style=\"text-align: right;\">\n",
       "      <th></th>\n",
       "      <th>fact_name</th>\n",
       "      <th>fact_value</th>\n",
       "      <th>in_fact_subjects</th>\n",
       "      <th>in_subjects</th>\n",
       "      <th>in_fact_perc</th>\n",
       "      <th>out_fact_subjects</th>\n",
       "      <th>out_subjects</th>\n",
       "      <th>out_fact_perc</th>\n",
       "      <th>perc_diff</th>\n",
       "      <th>total_subjects</th>\n",
       "      <th>in_subject_perc</th>\n",
       "    </tr>\n",
       "  </thead>\n",
       "  <tbody>\n",
       "    <tr>\n",
       "      <th>0</th>\n",
       "      <td>product</td>\n",
       "      <td>2</td>\n",
       "      <td>4</td>\n",
       "      <td>1636</td>\n",
       "      <td>0.002445</td>\n",
       "      <td>4</td>\n",
       "      <td>8364</td>\n",
       "      <td>0.000478</td>\n",
       "      <td>4.112469</td>\n",
       "      <td>10000</td>\n",
       "      <td>0.1636</td>\n",
       "    </tr>\n",
       "    <tr>\n",
       "      <th>1</th>\n",
       "      <td>product</td>\n",
       "      <td>3</td>\n",
       "      <td>3</td>\n",
       "      <td>1636</td>\n",
       "      <td>0.001834</td>\n",
       "      <td>4</td>\n",
       "      <td>8364</td>\n",
       "      <td>0.000478</td>\n",
       "      <td>2.834352</td>\n",
       "      <td>10000</td>\n",
       "      <td>0.1636</td>\n",
       "    </tr>\n",
       "    <tr>\n",
       "      <th>2</th>\n",
       "      <td>product</td>\n",
       "      <td>10</td>\n",
       "      <td>17</td>\n",
       "      <td>1636</td>\n",
       "      <td>0.010391</td>\n",
       "      <td>63</td>\n",
       "      <td>8364</td>\n",
       "      <td>0.007532</td>\n",
       "      <td>0.379555</td>\n",
       "      <td>10000</td>\n",
       "      <td>0.1636</td>\n",
       "    </tr>\n",
       "    <tr>\n",
       "      <th>3</th>\n",
       "      <td>product</td>\n",
       "      <td>23</td>\n",
       "      <td>5</td>\n",
       "      <td>1636</td>\n",
       "      <td>0.003056</td>\n",
       "      <td>22</td>\n",
       "      <td>8364</td>\n",
       "      <td>0.002630</td>\n",
       "      <td>0.161925</td>\n",
       "      <td>10000</td>\n",
       "      <td>0.1636</td>\n",
       "    </tr>\n",
       "    <tr>\n",
       "      <th>4</th>\n",
       "      <td>product</td>\n",
       "      <td>25</td>\n",
       "      <td>4</td>\n",
       "      <td>1636</td>\n",
       "      <td>0.002445</td>\n",
       "      <td>26</td>\n",
       "      <td>8364</td>\n",
       "      <td>0.003109</td>\n",
       "      <td>-0.213466</td>\n",
       "      <td>10000</td>\n",
       "      <td>0.1636</td>\n",
       "    </tr>\n",
       "    <tr>\n",
       "      <th>5</th>\n",
       "      <td>product</td>\n",
       "      <td>32</td>\n",
       "      <td>1</td>\n",
       "      <td>1636</td>\n",
       "      <td>0.000611</td>\n",
       "      <td>5</td>\n",
       "      <td>8364</td>\n",
       "      <td>0.000598</td>\n",
       "      <td>0.022494</td>\n",
       "      <td>10000</td>\n",
       "      <td>0.1636</td>\n",
       "    </tr>\n",
       "    <tr>\n",
       "      <th>6</th>\n",
       "      <td>product</td>\n",
       "      <td>34</td>\n",
       "      <td>20</td>\n",
       "      <td>1636</td>\n",
       "      <td>0.012225</td>\n",
       "      <td>83</td>\n",
       "      <td>8364</td>\n",
       "      <td>0.009923</td>\n",
       "      <td>0.231920</td>\n",
       "      <td>10000</td>\n",
       "      <td>0.1636</td>\n",
       "    </tr>\n",
       "    <tr>\n",
       "      <th>7</th>\n",
       "      <td>product</td>\n",
       "      <td>35</td>\n",
       "      <td>4</td>\n",
       "      <td>1636</td>\n",
       "      <td>0.002445</td>\n",
       "      <td>6</td>\n",
       "      <td>8364</td>\n",
       "      <td>0.000717</td>\n",
       "      <td>2.408313</td>\n",
       "      <td>10000</td>\n",
       "      <td>0.1636</td>\n",
       "    </tr>\n",
       "    <tr>\n",
       "      <th>8</th>\n",
       "      <td>product</td>\n",
       "      <td>43</td>\n",
       "      <td>3</td>\n",
       "      <td>1636</td>\n",
       "      <td>0.001834</td>\n",
       "      <td>5</td>\n",
       "      <td>8364</td>\n",
       "      <td>0.000598</td>\n",
       "      <td>2.067482</td>\n",
       "      <td>10000</td>\n",
       "      <td>0.1636</td>\n",
       "    </tr>\n",
       "    <tr>\n",
       "      <th>9</th>\n",
       "      <td>product</td>\n",
       "      <td>44</td>\n",
       "      <td>2</td>\n",
       "      <td>1636</td>\n",
       "      <td>0.001222</td>\n",
       "      <td>4</td>\n",
       "      <td>8364</td>\n",
       "      <td>0.000478</td>\n",
       "      <td>1.556235</td>\n",
       "      <td>10000</td>\n",
       "      <td>0.1636</td>\n",
       "    </tr>\n",
       "  </tbody>\n",
       "</table>\n",
       "</div>"
      ],
      "text/plain": [
       "  fact_name  fact_value  in_fact_subjects  in_subjects  in_fact_perc  \\\n",
       "0   product           2                 4         1636      0.002445   \n",
       "1   product           3                 3         1636      0.001834   \n",
       "2   product          10                17         1636      0.010391   \n",
       "3   product          23                 5         1636      0.003056   \n",
       "4   product          25                 4         1636      0.002445   \n",
       "5   product          32                 1         1636      0.000611   \n",
       "6   product          34                20         1636      0.012225   \n",
       "7   product          35                 4         1636      0.002445   \n",
       "8   product          43                 3         1636      0.001834   \n",
       "9   product          44                 2         1636      0.001222   \n",
       "\n",
       "   out_fact_subjects  out_subjects  out_fact_perc  perc_diff  total_subjects  \\\n",
       "0                  4          8364       0.000478   4.112469           10000   \n",
       "1                  4          8364       0.000478   2.834352           10000   \n",
       "2                 63          8364       0.007532   0.379555           10000   \n",
       "3                 22          8364       0.002630   0.161925           10000   \n",
       "4                 26          8364       0.003109  -0.213466           10000   \n",
       "5                  5          8364       0.000598   0.022494           10000   \n",
       "6                 83          8364       0.009923   0.231920           10000   \n",
       "7                  6          8364       0.000717   2.408313           10000   \n",
       "8                  5          8364       0.000598   2.067482           10000   \n",
       "9                  4          8364       0.000478   1.556235           10000   \n",
       "\n",
       "   in_subject_perc  \n",
       "0           0.1636  \n",
       "1           0.1636  \n",
       "2           0.1636  \n",
       "3           0.1636  \n",
       "4           0.1636  \n",
       "5           0.1636  \n",
       "6           0.1636  \n",
       "7           0.1636  \n",
       "8           0.1636  \n",
       "9           0.1636  "
      ]
     },
     "execution_count": 314,
     "metadata": {},
     "output_type": "execute_result"
    }
   ],
   "source": [
    "dfDescribe[0:10]"
   ]
  },
  {
   "cell_type": "code",
   "execution_count": 273,
   "metadata": {},
   "outputs": [
    {
     "data": {
      "image/png": "[encoded data removed]",
      "text/plain": [
       "<matplotlib.figure.Figure at 0x1c4bf0d978>"
      ]
     },
     "metadata": {},
     "output_type": "display_data"
    },
    {
     "name": "stdout",
     "output_type": "stream",
     "text": [
      "  subject  cluster_5  subject_x  subject_y cluster_6\n",
      "0   <pad>          3  -5.148042 -16.010481         3\n",
      "1   <unk>          4   4.587092  -3.472505         4\n",
      "2  131080          2 -48.370846  13.105368         2\n",
      "3      11          4   3.460814 -10.007190         4\n",
      "4  131087          1 -10.186548  24.243450         1\n",
      "5  163858          4  17.728691 -20.966137         4\n",
      "6  163860          4   9.893294   1.799760         4\n",
      "7  196631          1  15.466464  45.583527         1\n",
      "8      26          4   4.563170   5.711637         4\n",
      "9      28          3  14.420915 -64.114136         3\n"
     ]
    }
   ],
   "source": [
    "\n",
    "fathom.plot_clusters(cluster_count=6)\n",
    "print(fathom.subject_data[0:10])"
   ]
  },
  {
   "cell_type": "code",
   "execution_count": 268,
   "metadata": {
    "collapsed": true
   },
   "outputs": [],
   "source": [
    "dfxy = fathom.subject_data.copy()"
   ]
  },
  {
   "cell_type": "code",
   "execution_count": 175,
   "metadata": {
    "collapsed": true
   },
   "outputs": [],
   "source": [
    "# as a sample, use instacart purchases\n",
    "# we will use users as subjects and products purchased as facts\n",
    "\n",
    "dataPath = '/Users/Miles/Documents/Datasets/Instacart/'\n",
    "dfProducts = pd.read_csv(dataPath + 'products.csv')\n",
    "dfOrders = pd.read_csv(dataPath + 'orders.csv')\n",
    "dfOrderProducts = pd.read_csv(dataPath + 'order_products__prior.csv')"
   ]
  },
  {
   "cell_type": "code",
   "execution_count": 176,
   "metadata": {},
   "outputs": [],
   "source": [
    "# full set has 206K unique users\n",
    "dfOrders['user_id'].nunique()\n",
    "\n",
    "# take a random sample of 10K users - that is more managable\n",
    "# also appears it takes more epochs to train the model, the more users there are :(\n",
    "dfSample = pd.DataFrame()\n",
    "dfSample['user_id'] = dfOrders['user_id'].unique()\n",
    "dfSample = dfSample.sample(n=10000)\n",
    "\n",
    "dfOrders = pd.merge(dfSample, dfOrders, on='user_id').reset_index()"
   ]
  },
  {
   "cell_type": "code",
   "execution_count": 177,
   "metadata": {},
   "outputs": [],
   "source": [
    "# create list of user ids and products they have ordered\n",
    "\n",
    "dfUserProducts = pd.merge(dfOrders, dfOrderProducts, on='order_id')[['user_id', 'product_id']].\\\n",
    "    sort_values(['user_id', 'product_id']).groupby(['user_id', 'product_id']).count().reset_index()"
   ]
  },
  {
   "cell_type": "code",
   "execution_count": 178,
   "metadata": {},
   "outputs": [],
   "source": [
    "dfUserProducts['fact_name'] = 'product'"
   ]
  },
  {
   "cell_type": "code",
   "execution_count": 211,
   "metadata": {},
   "outputs": [
    {
     "name": "stdout",
     "output_type": "stream",
     "text": [
      "649464 fact rows loaded\n"
     ]
    }
   ],
   "source": [
    "facts = FactSet('grocery')\n",
    "facts.subject_column = 'user_id'\n",
    "facts.fact_name_column = 'fact_name'\n",
    "facts.fact_value_column = 'product_id'\n",
    "facts.load_fact_rows(dfUserProducts)"
   ]
  },
  {
   "cell_type": "code",
   "execution_count": 231,
   "metadata": {},
   "outputs": [
    {
     "ename": "NameError",
     "evalue": "name 'factset_to_df' is not defined",
     "output_type": "error",
     "traceback": [
      "\u001b[0;31m---------------------------------------------------------------------------\u001b[0m",
      "\u001b[0;31mNameError\u001b[0m                                 Traceback (most recent call last)",
      "\u001b[0;32m<ipython-input-231-ba9bf2a2c09f>\u001b[0m in \u001b[0;36m<module>\u001b[0;34m()\u001b[0m\n\u001b[1;32m      1\u001b[0m \u001b[0mfathom\u001b[0m \u001b[0;34m=\u001b[0m \u001b[0mFathom\u001b[0m\u001b[0;34m(\u001b[0m\u001b[0mfacts\u001b[0m\u001b[0;34m)\u001b[0m\u001b[0;34m\u001b[0m\u001b[0m\n\u001b[1;32m      2\u001b[0m \u001b[0;31m#fathom.learn(super_epochs=3, epochs=15, batch_size=8192)\u001b[0m\u001b[0;34m\u001b[0m\u001b[0;34m\u001b[0m\u001b[0m\n\u001b[0;32m----> 3\u001b[0;31m \u001b[0mfathom\u001b[0m\u001b[0;34m.\u001b[0m\u001b[0mload_model\u001b[0m\u001b[0;34m(\u001b[0m\u001b[0mmodel_name\u001b[0m\u001b[0;34m=\u001b[0m\u001b[0;34m'grocery'\u001b[0m\u001b[0;34m)\u001b[0m\u001b[0;34m\u001b[0m\u001b[0m\n\u001b[0m",
      "\u001b[0;32m<ipython-input-230-215ea6bcfbf8>\u001b[0m in \u001b[0;36mload_model\u001b[0;34m(self, model, modeldata, model_name)\u001b[0m\n\u001b[1;32m     23\u001b[0m \u001b[0;34m\u001b[0m\u001b[0m\n\u001b[1;32m     24\u001b[0m             \u001b[0mself\u001b[0m\u001b[0;34m.\u001b[0m\u001b[0mmodel\u001b[0m \u001b[0;34m=\u001b[0m \u001b[0mload_model\u001b[0m\u001b[0;34m(\u001b[0m\u001b[0mmodel_name\u001b[0m \u001b[0;34m+\u001b[0m \u001b[0;34m'_model.h5'\u001b[0m\u001b[0;34m)\u001b[0m\u001b[0;34m\u001b[0m\u001b[0m\n\u001b[0;32m---> 25\u001b[0;31m             \u001b[0mmd\u001b[0m \u001b[0;34m=\u001b[0m \u001b[0mModelData\u001b[0m\u001b[0;34m(\u001b[0m\u001b[0mfactset_to_df\u001b[0m\u001b[0;34m,\u001b[0m \u001b[0mmodel_name\u001b[0m \u001b[0;34m+\u001b[0m \u001b[0;34m'_settings'\u001b[0m\u001b[0;34m)\u001b[0m\u001b[0;34m\u001b[0m\u001b[0m\n\u001b[0m\u001b[1;32m     26\u001b[0m \u001b[0;34m\u001b[0m\u001b[0m\n\u001b[1;32m     27\u001b[0m         \u001b[0;31m# convert model embeddings to nutshell representation objects\u001b[0m\u001b[0;34m\u001b[0m\u001b[0;34m\u001b[0m\u001b[0m\n",
      "\u001b[0;31mNameError\u001b[0m: name 'factset_to_df' is not defined"
     ]
    }
   ],
   "source": [
    "fathom = Fathom(facts)\n",
    "#fathom.learn(super_epochs=3, epochs=15, batch_size=8192)\n",
    "fathom.load_model(model_name='grocery')"
   ]
  },
  {
   "cell_type": "code",
   "execution_count": 185,
   "metadata": {},
   "outputs": [],
   "source": [
    "subject_embeddings = fathom.model.extract_embedding('subject', include_key=True)\n",
    "fact_embeddings = fathom.model.extract_embedding('fact', include_key=True)"
   ]
  },
  {
   "cell_type": "code",
   "execution_count": 187,
   "metadata": {},
   "outputs": [],
   "source": [
    "subject_representation = Representation(subject_embeddings)"
   ]
  },
  {
   "cell_type": "code",
   "execution_count": 193,
   "metadata": {},
   "outputs": [],
   "source": [
    "subject_representation.calculate_clusters(5)"
   ]
  },
  {
   "cell_type": "code",
   "execution_count": 195,
   "metadata": {},
   "outputs": [
    {
     "name": "stdout",
     "output_type": "stream",
     "text": [
      "[3 4 2 4 1 4 4 1 4 3 1 4 1 1 1 0 1 4 4 0]\n"
     ]
    }
   ],
   "source": [
    "print(subject_representation.clusters[0:20])"
   ]
  },
  {
   "cell_type": "code",
   "execution_count": 188,
   "metadata": {
    "collapsed": true
   },
   "outputs": [],
   "source": [
    "subject_2d = subject_representation.reduce_dimensions(2)"
   ]
  },
  {
   "cell_type": "code",
   "execution_count": 189,
   "metadata": {},
   "outputs": [
    {
     "name": "stdout",
     "output_type": "stream",
     "text": [
      "[[ -5.1480422  -16.01048088]\n",
      " [  4.58709192  -3.47250485]\n",
      " [-48.37084579  13.10536766]\n",
      " [  3.46081352 -10.00718975]\n",
      " [-10.18654823  24.24345016]]\n"
     ]
    }
   ],
   "source": [
    "print(subject_2d[0:5])"
   ]
  },
  {
   "cell_type": "code",
   "execution_count": 252,
   "metadata": {},
   "outputs": [
    {
     "data": {
      "image/png": "[encoded data removed]",
      "text/plain": [
       "<matplotlib.figure.Figure at 0x1c401cc048>"
      ]
     },
     "metadata": {},
     "output_type": "display_data"
    }
   ],
   "source": [
    "import matplotlib.pyplot as plt\n",
    "\n",
    "max_points = 500\n",
    "#plt.scatter(subject_2d[:max_points,0], subject_2d[:max_points,1], color='b')\n",
    "cl = subject_representation.clusters[0:max_points]\n",
    "plt.scatter(subject_2d[:max_points,0], subject_2d[:max_points,1], c=cl, label='hi')\n",
    "\n",
    "plt.xlabel('Reduced Dimension A')\n",
    "plt.ylabel('Reduced Dimension B')\n",
    "\n",
    "#fig, ax = plt.subplots()\n",
    "#ax.legend()\n",
    "\n",
    "plt.show()"
   ]
  },
  {
   "cell_type": "code",
   "execution_count": null,
   "metadata": {
    "collapsed": true
   },
   "outputs": [],
   "source": []
  }
 ],
 "metadata": {
  "kernelspec": {
   "display_name": "Python 3",
   "language": "python",
   "name": "python3"
  },
  "language_info": {
   "codemirror_mode": {
    "name": "ipython",
    "version": 3
   },
   "file_extension": ".py",
   "mimetype": "text/x-python",
   "name": "python",
   "nbconvert_exporter": "python",
   "pygments_lexer": "ipython3",
   "version": "3.6.4"
  }
 },
 "nbformat": 4,
 "nbformat_minor": 2
}
