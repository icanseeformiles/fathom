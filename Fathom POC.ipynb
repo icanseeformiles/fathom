{
 "cells": [
  {
   "cell_type": "code",
   "execution_count": 1,
   "metadata": {},
   "outputs": [
    {
     "name": "stderr",
     "output_type": "stream",
     "text": [
      "Using TensorFlow backend.\n"
     ]
    }
   ],
   "source": [
    "import numpy as np\n",
    "import pandas as pd\n",
    "import matplotlib.pyplot as plt\n",
    "from keras.models import load_model\n",
    "from nutshell import ModelData, Learner, Representation"
   ]
  },
  {
   "cell_type": "code",
   "execution_count": 2,
   "metadata": {
    "collapsed": true
   },
   "outputs": [],
   "source": [
    "# Fathom concepts\n",
    "\n",
    "# FactSet is a dataset with three columns: subject, fact_name, fact_value\n",
    "#  \n",
    "# You can generate a FactSet from a data with rows and columns using \n",
    "#  load_subject_rows: source dataframe has one row per subject - with columns containing fact values\n",
    "#  load_fact_rows: source dataframe has many rows per subject - one row per fact name/value pair\n",
    "#  results in internal fact_data dataset with one row per subject/fact\n",
    "\n"
   ]
  },
  {
   "cell_type": "code",
   "execution_count": 3,
   "metadata": {
    "collapsed": true
   },
   "outputs": [],
   "source": [
    "class FactSet:\n",
    "    \n",
    "    def __init__(self, factset_name):\n",
    "\n",
    "        self.factset_name = factset_name  # this value informs the names of model files generated\n",
    "        self.fact_data = pd.DataFrame()   # internal dataset with one row per subject/fact\n",
    "        self.label_data = pd.DataFrame()  # internal dataset with one row per subject\n",
    "        self.subject_column = ''          # name of subject id column in input dataset\n",
    "        self.label_column = ''            # name label column - this will be not be used in training\n",
    "        self.fact_name_column = ''        # name of fact name column in input dataset\n",
    "        self.fact_value_column = ''       # name of fact value column in input dataset\n",
    "        self.fact_colnames = []           # optional: list of fact columns; default is all non subject/label columns\n",
    "        self.model = None\n",
    "               \n",
    "    def load_subject_rows(self, df):\n",
    "        \n",
    "        # dataset is in the format one row per subject, one fact per column\n",
    "        print('Transposing data into fact rows...')\n",
    "        \n",
    "        #to do\n",
    "        \n",
    "    \n",
    "    def load_fact_rows(self, df):\n",
    "               \n",
    "        # dataset is in the format one row per subject/fact, each row has a fact name and value column\n",
    "        self.fact_data = pd.DataFrame()\n",
    "        self.fact_data['subject'] = df[self.subject_column]\n",
    "        self.fact_data['fact_name'] = df[self.fact_name_column]\n",
    "        self.fact_data['fact_value'] = df[self.fact_value_column]\n",
    "        \n",
    "        print(len(df), 'fact rows loaded')\n",
    "             "
   ]
  },
  {
   "cell_type": "code",
   "execution_count": 46,
   "metadata": {
    "collapsed": true
   },
   "outputs": [],
   "source": [
    "class Fathom:\n",
    "    \n",
    "    def __init__(self, factset):\n",
    "        \n",
    "        self.factset = factset\n",
    "        self.model = None\n",
    "        self.subject_representation = None\n",
    "        self.subject_data = pd.DataFrame() # data for output for each subject\n",
    "        self.fact_representation = None    \n",
    "        self.fact_data = pd.DataFrame() # data for output for each fact\n",
    "             \n",
    "       \n",
    "    def load_model(self, model=None, modeldata=None, model_name=''):\n",
    "        \n",
    "        # load trained model and settings\n",
    " \n",
    "        if model!=None:\n",
    "            self.model = model\n",
    "            md = modeldata\n",
    "        else:\n",
    "            if model_name=='':\n",
    "                model_name = self.factset.factset_name\n",
    "                \n",
    "            self.model = load_model(model_name + '_model.h5')\n",
    "            md = ModelData(self.factset_to_df, model_name + '_settings')\n",
    "\n",
    "        # convert model embeddings to nutshell representation objects\n",
    "        self.subject_representation = Representation(self.extract_embeddings('subject', md, include_key = True))\n",
    "        self.fact_representation = Representation(self.extract_embeddings('fact', md, include_key = True))  \n",
    "        \n",
    "        # initialize output datasets\n",
    "        self.subject_data = pd.DataFrame()\n",
    "        self.subject_data['subject'] = self.subject_representation.keys\n",
    "        self.fact_data = pd.DataFrame()\n",
    "        self.fact_data['fact'] = self.fact_representation.keys\n",
    "            \n",
    "    \n",
    "    def extract_embeddings(self, column_name, modeldata, include_key = False):\n",
    "        \n",
    "        embedding_list = self.model.get_layer('embed_' + column_name).get_weights()[0]\n",
    "        \n",
    "        if include_key:\n",
    "            key_list = []\n",
    "            for i in range(0, len(embedding_list)):\n",
    "                v = modeldata.index_value[column_name][i]\n",
    "                key_list.append(v)\n",
    "            embedding_list = [embedding_list, key_list]\n",
    "            return embedding_list\n",
    "        else:\n",
    "            return [embedding_list]\n",
    "                   \n",
    "            \n",
    "    def factset_to_df(self):\n",
    "        \n",
    "        fact_data = self.factset.fact_data\n",
    "        \n",
    "        dfLearn = pd.DataFrame()        \n",
    "        dfLearn['subject'] = fact_data['subject']\n",
    "        dfLearn['fact'] = fact_data['fact_name'].astype('str') + '/' + fact_data['fact_value'].astype('str')\n",
    "        dfLearn['is_true'] = 1\n",
    "        \n",
    "        return dfLearn\n",
    " \n",
    "    \n",
    "    def learn(self, batch_size=1024, super_epochs=1, epochs=1):\n",
    "     \n",
    "        # training a neural net to tell which facts are true and which are false about each subject\n",
    "        #  so for every true fact about a subject, there should be an equal number of false facts\n",
    "        #  false facts are taken from other subjects, so they are plausible facts       \n",
    "        \n",
    "        print('Preparing data for model training...')\n",
    "    \n",
    "        dfLearn = self.factset_to_df() # convert fact_data to training data format\n",
    "        \n",
    "        data = ModelData(dfLearn)\n",
    "        data.category_columns = ['subject','fact']\n",
    "        data.label_column = 'is_true'\n",
    "        data.prepare_data()\n",
    "        data.add_false_rows(['subject']) # TODO: need to iterate to get rid of true facts labeled as false\n",
    "        #data.prepare_data() # this wipes out false rows\n",
    "        data.max_validation = 1 # overfitting is the point here - no need for validation set\n",
    "        data.split_data(shuffle=True)       \n",
    "        \n",
    "        print('Building neural network...')\n",
    "        \n",
    "        model = Learner(data)\n",
    "        model.dropout = .01 # overfitting is the point here - minimize dropout\n",
    "        model.batch_size = batch_size\n",
    "        model.build_model()\n",
    "        \n",
    "        print('Training neural network...')\n",
    "\n",
    "        model.train_model(self.factset.factset_name, epochs=epochs, super_epochs=super_epochs, early_stopping='loss')\n",
    "        # early_stopping='loss' is because we are trying to overfit - ignoring validation loss\n",
    "        \n",
    "        print ('Stored model to: ', self.factset.factset_name + '_', 'files')\n",
    "        load_model(model, data) # set internal model and extract embeddings\n",
    "        \n",
    "        \n",
    "    def generate_xy(self, generate_for='subject'):\n",
    "        \n",
    "        # this will reduce embedding dimensions down to 2 x,y dimensions\n",
    "        #  and add the x,y values to the output data set\n",
    "        \n",
    "        if generate_for == 'subject':\n",
    "            g_representation = self.subject_representation\n",
    "            g_data = self.subject_data\n",
    "        else:\n",
    "            generate_for = 'fact'\n",
    "            g_representation= self.fact_representation\n",
    "            g_data = self.fact_data\n",
    "            \n",
    "        print('Calculating x,y coordinates for ' + generate_for + 's (this could take a while)...')\n",
    "        rep_2d = self.subject_representation.reduce_dimensions(2)\n",
    "        g_data[generate_for + '_x'] = rep_2d[:,0]\n",
    "        g_data[generate_for + '_y'] = rep_2d[:,1]\n",
    "        print('Added ' + generate_for + '_x and ' + generate_for + '_y columns to ' + generate_for + '_data')\n",
    "        \n",
    "    def generate_clusters(self, cluster_count=5, generate_for='subject'):\n",
    "        \n",
    "        # this will create n clusters based on subject/fact embedding values\n",
    "        #  and add the cluster_n value to the output data set\n",
    "        # you can run this multiple times with different n values\n",
    "        #  so multiple cluster sets can be added to the output to create super/sub clusters\n",
    "        \n",
    "        if generate_for == 'subject':\n",
    "            g_representation = self.subject_representation\n",
    "            g_data = self.subject_data\n",
    "        else:\n",
    "            generate_for = 'fact'\n",
    "            g_representation= self.fact_representation\n",
    "            g_data = self.fact_data\n",
    "            \n",
    "        print('Calculating ' + str(cluster_count) + ' subject clusters...')\n",
    "        self.subject_representation.calculate_clusters(cluster_count)\n",
    "        self.subject_data['cluster_' + str(cluster_count)] = self.subject_representation.clusters\n",
    "        print('Added cluster_' + str(cluster_count) + ' to subject_data')\n",
    "        \n",
    "    def rename_cluster(self, generate_for='subject', cluster_count=5, old_cluster_name='', new_cluster_name=''):\n",
    "        \n",
    "        if old_cluster_name == '':\n",
    "            raise Exception('You must provide a value for old_cluster_name parameter')\n",
    "        if new_cluster_name=='':\n",
    "            raise Exception('You must provide a string for new_cluster_name parameter')\n",
    "            \n",
    "        # TO DO find column, replace new value where old value is present\n",
    "                    \n",
    "    \n",
    "    def contrast_cluster(self, cluster_count, cluster_name):\n",
    "        \n",
    "        # return a dataframe containing all unique facts for the subset of subjects \n",
    "        #  where the subset is equal to members of a cluster\n",
    "        \n",
    "        # join all facts from factset.fact_data and join to subject_data\n",
    "        #  to apply subject cluster names to each fact\n",
    "        \n",
    "        print('Applying subject clusters to all facts in factset...')\n",
    "        dfClusterFacts = pd.merge(self.factset.fact_data, \\\n",
    "                                  self.subject_data[['subject', 'cluster_'+str(cluster_count)]],\\\n",
    "                                 on='subject')\n",
    "        \n",
    "        print('Aggregating fact metrics for subjects in/out of cluster...')\n",
    "        dfDescribe = self.contrast_subset(df=dfClusterFacts, col_name='cluster_'+str(cluster_count), col_value=cluster_name)\n",
    "        \n",
    "        return dfDescribe\n",
    "        \n",
    "    def contrast_subset(self, df, col_name, col_value):\n",
    "        \n",
    "        # return a dataframe containing metrics about all unique facts in factset\n",
    "        #  for each fact, provide: in_subject_count, out_subject_count, in_fact_count, out_fact_count\n",
    "        \n",
    "        df['in_out'] = df[col_name].apply(lambda x: 'in' if str(x)==str(col_value) else 'out')\n",
    "        dfFactInOut = df.groupby(['in_out', 'fact_name', 'fact_value']).subject.nunique().reset_index()\n",
    "        dfFactInOut = dfFactInOut.rename(columns={\"subject\": \"fact_subjects\"})\n",
    "        dfInOut = df.groupby(['in_out']).subject.nunique().reset_index()\n",
    "        dfInOut = dfInOut.rename(columns={\"subject\": \"set_subjects\"})\n",
    "        total_subjects = df.subject.nunique()\n",
    "        dfFactMetrics = pd.merge(dfFactInOut, dfInOut, on='in_out').reset_index()\n",
    "        dfFactMetrics['fact_perc'] = dfFactMetrics.apply(lambda x: x['fact_subjects'] / x['set_subjects'], axis=1)\n",
    "        dfFactsIn = dfFactMetrics[dfFactMetrics['in_out']=='in'][['fact_name', 'fact_value', 'fact_subjects', 'set_subjects', 'fact_perc']]\n",
    "        dfFactsIn = dfFactsIn.rename(columns={'fact_subjects':'in_fact_subjects', 'set_subjects':'in_subjects', 'fact_perc': 'in_fact_perc'})\n",
    "        dfFactsOut = dfFactMetrics[dfFactMetrics['in_out']=='out'][['fact_name', 'fact_value', 'fact_subjects', 'set_subjects', 'fact_perc']]\n",
    "        dfFactsOut = dfFactsOut.rename(columns={'fact_subjects':'out_fact_subjects', 'set_subjects':'out_subjects', 'fact_perc': 'out_fact_perc'})\n",
    "        dfFactMetrics = pd.merge(dfFactsIn, dfFactsOut, on=['fact_name', 'fact_value'])\n",
    "\n",
    "        dfFactMetrics['perc_diff'] = dfFactMetrics.apply(lambda x: (x['in_fact_perc'] - x['out_fact_perc'])/x['out_fact_perc'], axis=1)\n",
    "        dfFactMetrics['total_subjects'] = total_subjects\n",
    "        dfFactMetrics['in_subject_perc'] = dfFactMetrics.apply(lambda x: x['in_subjects'] / x['total_subjects'], axis=1)        \n",
    "        \n",
    "        return dfFactMetrics\n",
    " \n",
    "    def describe_contrast(self, dfContrast):\n",
    "        \n",
    "        # display intreseting stats about the subset/cluster\n",
    "        \n",
    "        print('set contains', dfContrast[0]['in_subjects'], 'subjects')\n",
    "    \n",
    "    def plot_clusters(self, cluster_count, generate_for='subject', max_points=500, cluster_name=''):\n",
    "        \n",
    "        # plot a small graph showing a sample of subjects/facts with dots colored by cluster\n",
    "        \n",
    "        if generate_for == 'subject':\n",
    "            g_data = self.subject_data\n",
    "        else:\n",
    "            generate_for = 'fact'\n",
    "            g_data = self.fact_data\n",
    "            \n",
    "        if cluster_name > '':\n",
    "            g_data = g_data[g_data['cluster_'+str(cluster_count)].astype(str)==cluster_name]\n",
    "            \n",
    "        cl = g_data[0:max_points]['cluster_' + str(cluster_count)]\n",
    "        plt.scatter(g_data[0:max_points]['subject_x'], g_data[0:max_points]['subject_y'], c=cl)\n",
    "\n",
    "        plt.xlabel('reduced dimension x')\n",
    "        plt.ylabel('reduced dimension y')\n",
    "\n",
    "        #fig, ax = plt.subplots()\n",
    "        #ax.legend()\n",
    "\n",
    "        plt.show()        \n",
    "        \n",
    "               "
   ]
  },
  {
   "cell_type": "code",
   "execution_count": 276,
   "metadata": {
    "collapsed": true
   },
   "outputs": [],
   "source": [
    "df = pd.merge(fathom.factset.fact_data, \\\n",
    "                          fathom.subject_data[['subject', 'cluster_'+str(5)]],\\\n",
    "                         on='subject')\n",
    "\n",
    "\n"
   ]
  },
  {
   "cell_type": "code",
   "execution_count": 304,
   "metadata": {},
   "outputs": [
    {
     "name": "stdout",
     "output_type": "stream",
     "text": [
      "  fact_name  fact_value  in_fact_subjects  in_subjects  in_fact_perc  \\\n",
      "0   product           2                 3         2038      0.001472   \n",
      "1   product           3                 2         2038      0.000981   \n",
      "2   product          10                36         2038      0.017664   \n",
      "3   product          23                 7         2038      0.003435   \n",
      "4   product          25                15         2038      0.007360   \n",
      "5   product          31                 1         2038      0.000491   \n",
      "6   product          32                 3         2038      0.001472   \n",
      "7   product          34                35         2038      0.017174   \n",
      "8   product          35                 4         2038      0.001963   \n",
      "9   product          43                 2         2038      0.000981   \n",
      "\n",
      "   out_fact_subjects  out_subjects  out_fact_perc  perc_diff  total_subjects  \\\n",
      "0                  5          7962       0.000628   1.344063           10000   \n",
      "1                  5          7962       0.000628   0.562709           10000   \n",
      "2                 44          7962       0.005526   2.196449           10000   \n",
      "3                 20          7962       0.002512   0.367370           10000   \n",
      "4                 15          7962       0.001884   2.906771           10000   \n",
      "5                  6          7962       0.000754  -0.348871           10000   \n",
      "6                  3          7962       0.000377   2.906771           10000   \n",
      "7                 68          7962       0.008541   1.010838           10000   \n",
      "8                  6          7962       0.000754   1.604514           10000   \n",
      "9                  6          7962       0.000754   0.302257           10000   \n",
      "\n",
      "   in_subject_perc  \n",
      "0           0.2038  \n",
      "1           0.2038  \n",
      "2           0.2038  \n",
      "3           0.2038  \n",
      "4           0.2038  \n",
      "5           0.2038  \n",
      "6           0.2038  \n",
      "7           0.2038  \n",
      "8           0.2038  \n",
      "9           0.2038  \n"
     ]
    }
   ],
   "source": [
    "#df = dfxy.copy()\n",
    "col_name = 'cluster_5'\n",
    "col_value='4'\n",
    "df['in_out'] = df[col_name].apply(lambda x: 'in' if str(x)==str(col_value) else 'out')\n",
    "dfFactInOut = df.groupby(['in_out', 'fact_name', 'fact_value']).subject.nunique().reset_index()\n",
    "dfFactInOut = dfFactInOut.rename(columns={\"subject\": \"fact_subjects\"})\n",
    "dfInOut = df.groupby(['in_out']).subject.nunique().reset_index()\n",
    "dfInOut = dfInOut.rename(columns={\"subject\": \"set_subjects\"})\n",
    "total_subjects = df.subject.nunique()\n",
    "dfFactMetrics = pd.merge(dfFactInOut, dfInOut, on='in_out').reset_index()\n",
    "dfFactMetrics['fact_perc'] = dfFactMetrics.apply(lambda x: x['fact_subjects'] / x['set_subjects'], axis=1)\n",
    "dfFactsIn = dfFactMetrics[dfFactMetrics['in_out']=='in'][['fact_name', 'fact_value', 'fact_subjects', 'set_subjects', 'fact_perc']]\n",
    "dfFactsIn = dfFactsIn.rename(columns={'fact_subjects':'in_fact_subjects', 'set_subjects':'in_subjects', 'fact_perc': 'in_fact_perc'})\n",
    "dfFactsOut = dfFactMetrics[dfFactMetrics['in_out']=='out'][['fact_name', 'fact_value', 'fact_subjects', 'set_subjects', 'fact_perc']]\n",
    "dfFactsOut = dfFactsOut.rename(columns={'fact_subjects':'out_fact_subjects', 'set_subjects':'out_subjects', 'fact_perc': 'out_fact_perc'})\n",
    "dfFactMetrics = pd.merge(dfFactsIn, dfFactsOut, on=['fact_name', 'fact_value'])\n",
    "\n",
    "dfFactMetrics['perc_diff'] = dfFactMetrics.apply(lambda x: (x['in_fact_perc'] - x['out_fact_perc'])/x['out_fact_perc'], axis=1)\n",
    "dfFactMetrics['total_subjects'] = total_subjects\n",
    "dfFactMetrics['in_subject_perc'] = dfFactMetrics.apply(lambda x: x['in_subjects'] / x['total_subjects'], axis=1)\n",
    "\n",
    "\n",
    "print(dfFactMetrics[0:10])\n",
    "\n"
   ]
  },
  {
   "cell_type": "code",
   "execution_count": 296,
   "metadata": {
    "collapsed": true
   },
   "outputs": [],
   "source": [
    "#dfFactMetrics[0:5]\n",
    "dfFactsIn = dfFactMetrics[dfFactMetrics['in_out']=='in']\n",
    "\n",
    "#[['fact_name', 'fact_value', 'fact_subjects', 'set_subjects', 'fact_perc']]\n"
   ]
  },
  {
   "cell_type": "code",
   "execution_count": 47,
   "metadata": {
    "collapsed": true
   },
   "outputs": [],
   "source": [
    "fathom = Fathom(facts)\n",
    "#fathom.learn(super_epochs=3, epochs=15, batch_size=8192)\n",
    "fathom.load_model(model_name='grocery')"
   ]
  },
  {
   "cell_type": "code",
   "execution_count": 48,
   "metadata": {},
   "outputs": [],
   "source": [
    "#fathom.generate_clusters()\n",
    "#fathom.generate_xy()\n",
    "fathom.subject_data = dfxy"
   ]
  },
  {
   "cell_type": "code",
   "execution_count": 54,
   "metadata": {},
   "outputs": [
    {
     "name": "stdout",
     "output_type": "stream",
     "text": [
      "Applying subject clusters to all facts in factset...\n",
      "Aggregating fact metrics for subjects in/out of cluster...\n"
     ]
    }
   ],
   "source": [
    "dfDescribe = fathom.contrast_cluster(5,4)"
   ]
  },
  {
   "cell_type": "code",
   "execution_count": 55,
   "metadata": {},
   "outputs": [],
   "source": [
    "dfProducts = pd.read_csv(dataPath + 'products.csv')\n",
    "dfProducts = dfProducts.rename(columns={'product_id': 'fact_value'})\n",
    "dfDescribe = pd.merge(dfDescribe, dfProducts[['fact_value', 'product_name']], on='fact_value' )\n",
    "#dfDescribe[0:10]"
   ]
  },
  {
   "cell_type": "code",
   "execution_count": 56,
   "metadata": {},
   "outputs": [
    {
     "name": "stdout",
     "output_type": "stream",
     "text": [
      "set contains 1802 of 10000 subjects 18.02 %\n",
      "\n",
      "high concentration\n",
      "      fact_name                               product_name  in_fact_subjects  \\\n",
      "4806    product                           Sweet Potato Yam               101   \n",
      "10741   product                             Classic Hummus               201   \n",
      "1870    product                   Grade A Large White Eggs               137   \n",
      "1342    product                     Whole Grain Oat Cereal                97   \n",
      "3705    product                       White Corn Tortillas                98   \n",
      "11746   product         Philadelphia Original Cream Cheese               126   \n",
      "9553    product            Super Soft Taco Flour Tortillas                99   \n",
      "6878    product              Original Whipped Cream Cheese               121   \n",
      "11380   product                                Black Beans               186   \n",
      "14364   product                     Squeeze Tomato Ketchup               133   \n",
      "4961    product                          All Purpose Flour                93   \n",
      "2484    product                     Scoops! Tortilla Chips               101   \n",
      "3465    product  Original Nooks & Crannies English Muffins               137   \n",
      "9928    product                     Eggo Homestyle Waffles                95   \n",
      "8976    product                            Real Mayonnaise               155   \n",
      "14232   product                100% Grated Parmesan Cheese                98   \n",
      "13129   product        Cage Free Brown Eggs-Large, Grade A               123   \n",
      "8807    product                  Pure & Natural Sour Cream               155   \n",
      "4570    product                                Penne Pasta               108   \n",
      "3550    product                           Fridge Pack Cola               139   \n",
      "\n",
      "       in_fact_perc  out_fact_perc  perc_diff  \n",
      "4806       0.056049       0.005245   9.685775  \n",
      "10741      0.111543       0.012808   7.708831  \n",
      "1870       0.076027       0.009758   6.790830  \n",
      "1342       0.053829       0.007563   6.117593  \n",
      "3705       0.054384       0.008173   5.654331  \n",
      "11746      0.069922       0.011222   5.230686  \n",
      "9553       0.054939       0.009880   4.560365  \n",
      "6878       0.067148       0.012076   4.560365  \n",
      "11380      0.103219       0.018663   4.530630  \n",
      "14364      0.073807       0.013540   4.451070  \n",
      "4961       0.051609       0.009636   4.355611  \n",
      "2484       0.056049       0.010490   4.342888  \n",
      "3465       0.076027       0.015126   4.026342  \n",
      "9928       0.052719       0.010490   4.025488  \n",
      "8976       0.086016       0.017321   3.965883  \n",
      "14232      0.054384       0.010978   3.953780  \n",
      "13129      0.068257       0.014150   3.823922  \n",
      "8807       0.086016       0.017931   3.796975  \n",
      "4570       0.059933       0.012564   3.770234  \n",
      "3550       0.077137       0.017565   3.391425  \n",
      "\n",
      "low concentration\n",
      "      fact_name                      product_name  in_fact_subjects  \\\n",
      "10949   product                   Grated Parmesan                 1   \n",
      "1545    product                 Shredded Parmesan                 1   \n",
      "15198   product        Grape White/Green Seedless                 1   \n",
      "9324    product         No Salt Added Black Beans                 1   \n",
      "13934   product              Whipped Cream Cheese                 1   \n",
      "13222   product              Feta Cheese Crumbles                 2   \n",
      "14767   product  Organic Low Sodium Chicken Broth                 3   \n",
      "8046    product                    Organic Garlic                16   \n",
      "12264   product                Organic Spring Mix                 5   \n",
      "14007   product             Organic Bartlett Pear                 6   \n",
      "13916   product            Organic Garbanzo Beans                 8   \n",
      "2287    product              Organic Tomato Paste                 7   \n",
      "14492   product             Organic Dijon Mustard                 7   \n",
      "7887    product        Organic Whole Strawberries                11   \n",
      "9855    product                   Original Hummus                18   \n",
      "8872    product  Organic Lacinato (Dinosaur) Kale                13   \n",
      "3725    product               Large Alfresco Eggs                10   \n",
      "6334    product                      Spring Water                11   \n",
      "15114   product               Organic Ginger Root                23   \n",
      "9845    product              Creamy Almond Butter                11   \n",
      "\n",
      "       in_fact_perc  out_fact_perc  perc_diff  \n",
      "10949      0.000555       0.107343  -0.994830  \n",
      "1545       0.000555       0.076726  -0.992767  \n",
      "15198      0.000555       0.075628  -0.992662  \n",
      "9324       0.000555       0.067699  -0.991803  \n",
      "13934      0.000555       0.054891  -0.989890  \n",
      "13222      0.001110       0.080263  -0.986172  \n",
      "14767      0.001665       0.054769  -0.969603  \n",
      "8046       0.008879       0.202976  -0.956256  \n",
      "12264      0.002775       0.060503  -0.954139  \n",
      "14007      0.003330       0.065748  -0.949357  \n",
      "13916      0.004440       0.080873  -0.945105  \n",
      "2287       0.003885       0.058673  -0.933793  \n",
      "14492      0.003885       0.050256  -0.922705  \n",
      "7887       0.006104       0.070139  -0.912968  \n",
      "9855       0.009989       0.113076  -0.911662  \n",
      "8872       0.007214       0.074286  -0.902887  \n",
      "3725       0.005549       0.056111  -0.901100  \n",
      "6334       0.006104       0.060137  -0.898492  \n",
      "15114      0.012764       0.125030  -0.897916  \n",
      "9845       0.006104       0.055501  -0.890015  \n"
     ]
    }
   ],
   "source": [
    "dfContrast = dfDescribe\n",
    "print('set contains', dfContrast['in_subjects'][0], 'of', dfContrast['total_subjects'][0],\\\n",
    "      'subjects', dfContrast['in_subject_perc'][0]*100, '%')\n",
    "\n",
    "min_in = 10\n",
    "min_perc = .05\n",
    "disp_cols = ['fact_name', 'product_name', 'in_fact_subjects', 'in_fact_perc', 'out_fact_perc','perc_diff']\n",
    "\n",
    "dfContrastHighFilter = dfContrast[(dfContrast['in_fact_subjects']>=min_in) & (dfContrast['in_fact_perc']>=min_perc)][disp_cols]\n",
    "dfContrastLowFilter = dfContrast[(dfContrast['out_fact_subjects']>=min_in) & (dfContrast['out_fact_perc']>=min_perc)][disp_cols]\n",
    "\n",
    "print('\\nhigh concentration')\n",
    "print(dfContrastHighFilter.sort_values(by='perc_diff', ascending=False)[0:20])\n",
    "print('\\nlow concentration')\n",
    "print(dfContrastLowFilter.sort_values(by='perc_diff', ascending=True)[0:20])\n",
    "\n"
   ]
  },
  {
   "cell_type": "code",
   "execution_count": 53,
   "metadata": {},
   "outputs": [
    {
     "data": {
      "image/png": "[encoded data removed]",
      "text/plain": [
       "<matplotlib.figure.Figure at 0x1c2a324f60>"
      ]
     },
     "metadata": {},
     "output_type": "display_data"
    },
    {
     "name": "stdout",
     "output_type": "stream",
     "text": [
      "  subject  cluster_5  subject_x  subject_y\n",
      "0   <pad>          3   2.326535 -10.678317\n",
      "1   <unk>          3   1.905807  -9.384513\n",
      "2  196610          2  15.851918  52.103973\n",
      "3   32775          0  29.456978 -34.010845\n",
      "4   32776          3   8.251374 -46.728134\n",
      "5      13          4 -34.369453  -0.094219\n",
      "6  163854          4 -19.068584  -2.283431\n",
      "7   32783          1 -21.320871  21.822449\n",
      "8  196624          2   4.950552  46.583263\n",
      "9   65558          4 -26.247263  16.627600\n"
     ]
    }
   ],
   "source": [
    "\n",
    "fathom.plot_clusters(cluster_count=5, cluster_name='4')\n",
    "print(fathom.subject_data[0:10])"
   ]
  },
  {
   "cell_type": "code",
   "execution_count": 42,
   "metadata": {
    "collapsed": true
   },
   "outputs": [],
   "source": [
    "dfxy = fathom.subject_data.copy()"
   ]
  },
  {
   "cell_type": "code",
   "execution_count": 5,
   "metadata": {
    "collapsed": true
   },
   "outputs": [],
   "source": [
    "# as a sample, use instacart purchases\n",
    "# we will use users as subjects and products purchased as facts\n",
    "\n",
    "dataPath = '/Users/Miles/Documents/Datasets/Instacart/'\n",
    "dfProducts = pd.read_csv(dataPath + 'products.csv')\n",
    "dfOrders = pd.read_csv(dataPath + 'orders.csv')\n",
    "dfOrderProducts = pd.read_csv(dataPath + 'order_products__prior.csv')"
   ]
  },
  {
   "cell_type": "code",
   "execution_count": 6,
   "metadata": {
    "collapsed": true
   },
   "outputs": [],
   "source": [
    "# full set has 206K unique users\n",
    "dfOrders['user_id'].nunique()\n",
    "\n",
    "# take a random sample of 10K users - that is more managable\n",
    "# also appears it takes more epochs to train the model, the more users there are :(\n",
    "dfSample = pd.DataFrame()\n",
    "dfSample['user_id'] = dfOrders['user_id'].unique()\n",
    "dfSample = dfSample.sample(n=10000)\n",
    "\n",
    "dfOrders = pd.merge(dfSample, dfOrders, on='user_id').reset_index()"
   ]
  },
  {
   "cell_type": "code",
   "execution_count": 7,
   "metadata": {
    "collapsed": true
   },
   "outputs": [],
   "source": [
    "# create list of user ids and products they have ordered\n",
    "\n",
    "dfUserProducts = pd.merge(dfOrders, dfOrderProducts, on='order_id')[['user_id', 'product_id']].\\\n",
    "    sort_values(['user_id', 'product_id']).groupby(['user_id', 'product_id']).count().reset_index()"
   ]
  },
  {
   "cell_type": "code",
   "execution_count": 8,
   "metadata": {
    "collapsed": true
   },
   "outputs": [],
   "source": [
    "dfUserProducts['fact_name'] = 'product'"
   ]
  },
  {
   "cell_type": "code",
   "execution_count": 9,
   "metadata": {
    "collapsed": true
   },
   "outputs": [],
   "source": [
    "import csv\n",
    "dfUserProducts.to_csv('grocery_userproducts.csv', index=False, quoting=csv.QUOTE_NONNUMERIC)"
   ]
  },
  {
   "cell_type": "code",
   "execution_count": 12,
   "metadata": {},
   "outputs": [
    {
     "name": "stdout",
     "output_type": "stream",
     "text": [
      "649061 fact rows loaded\n"
     ]
    }
   ],
   "source": [
    "facts = FactSet('grocery')\n",
    "facts.subject_column = 'user_id'\n",
    "facts.fact_name_column = 'fact_name'\n",
    "facts.fact_value_column = 'product_id'\n",
    "facts.load_fact_rows(dfUserProducts)"
   ]
  },
  {
   "cell_type": "code",
   "execution_count": 16,
   "metadata": {},
   "outputs": [],
   "source": [
    "fathom = Fathom(facts)\n",
    "#fathom.learn(super_epochs=3, epochs=15, batch_size=8192)\n",
    "fathom.load_model(model_name='grocery')"
   ]
  },
  {
   "cell_type": "code",
   "execution_count": null,
   "metadata": {
    "collapsed": true
   },
   "outputs": [],
   "source": []
  }
 ],
 "metadata": {
  "kernelspec": {
   "display_name": "Python 3",
   "language": "python",
   "name": "python3"
  },
  "language_info": {
   "codemirror_mode": {
    "name": "ipython",
    "version": 3
   },
   "file_extension": ".py",
   "mimetype": "text/x-python",
   "name": "python",
   "nbconvert_exporter": "python",
   "pygments_lexer": "ipython3",
   "version": "3.6.4"
  }
 },
 "nbformat": 4,
 "nbformat_minor": 2
}
